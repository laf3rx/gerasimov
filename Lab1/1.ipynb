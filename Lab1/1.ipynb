{
 "cells": [
  {
   "cell_type": "code",
   "execution_count": 1,
   "id": "cb721dae-1fd3-45b0-b453-c16133bdd01f",
   "metadata": {},
   "outputs": [],
   "source": [
    "def karN(u, v, sc):\n",
    "    #sc - система счисления\n",
    "    \n",
    "    #конец рекурсии, если числа разлелились на достаточно маленькие (одной системы счисления)\n",
    "    if u < sc or v < sc:\n",
    "        return u * v\n",
    "        \n",
    "    #длина частей для системы счисления sc\n",
    "    if u == 0:\n",
    "        len_u = 1\n",
    "    else:\n",
    "        len_u = floor(log(u, sc)) + 1\n",
    "    if v == 0:\n",
    "        len_v = 1\n",
    "    else:\n",
    "        len_v = floor(log(v, sc)) + 1\n",
    "    n = max(len_u, len_v) // 2\n",
    "\n",
    "\n",
    "    # Основание для разделения в системе счисления sc\n",
    "    B = sc^n\n",
    "    #print(B)\n",
    "    # Разделяем числа на старшую и младшую части\n",
    "\n",
    "    #разбиваем u\n",
    "    a = u//B # старшая часть u (до границы n)\n",
    "    b = u % B # младшая часть u (после границы n)\n",
    "    #print(a,b)\n",
    "    \n",
    "    #разбиваем v\n",
    "    c = v // B #мл часть v\n",
    "    d = v % B #мл часть v\n",
    "    #print(c,d)\n",
    "    \n",
    "    #u*v = ac * 2^n + (ad+ bc) * 2^(n/2) + bd для дв системы\n",
    "    # z-x-y  = (ad+bc)\n",
    "\n",
    "    #вводим предвычисления по рекурсии (3 умножения по Карацубе)\n",
    "    #x = a * c\n",
    "    x = karN(a,c, sc)\n",
    "    #y = b * d\n",
    "    y = karN(b,d, sc)\n",
    "    #z = (a+b)*(c+d)\n",
    "    #print(x,y,z)\n",
    "    z = karN(a+b, c+d, sc)\n",
    "    \n",
    "    #u*v = x* 2^n + (z-x-y) * 2^(n/2) + y для двоич\n",
    "    #proizv = x* 2^n + (z-x-y) * 2^(n/2) + y \n",
    "    #Сложность:  O(n^log_2(3)) ≈ O(n^1.585)\n",
    "    #альтернативный метод умножения u*v = 1/4 * ((u+v)^2 - (u-v)^2)\n",
    "\n",
    "    return x * B*B + (z-x-y) * B + y"
   ]
  },
  {
   "cell_type": "code",
   "execution_count": 2,
   "id": "66778dc9-0609-4897-801b-896eaf06a2c2",
   "metadata": {},
   "outputs": [
    {
     "name": "stdout",
     "output_type": "stream",
     "text": [
      "8261968\n"
     ]
    }
   ],
   "source": [
    "a = 1256\n",
    "b = 6578\n",
    "print(karN(a,b,10))"
   ]
  },
  {
   "cell_type": "code",
   "execution_count": 3,
   "id": "966eda48-36e0-4e54-85b0-1456633df5f3",
   "metadata": {},
   "outputs": [
    {
     "data": {
      "text/plain": [
       "8261968"
      ]
     },
     "execution_count": 3,
     "metadata": {},
     "output_type": "execute_result"
    }
   ],
   "source": [
    "a*b"
   ]
  },
  {
   "cell_type": "code",
   "execution_count": 4,
   "id": "5b8a853e-5f6e-4865-a326-2a182d855e00",
   "metadata": {},
   "outputs": [
    {
     "name": "stdout",
     "output_type": "stream",
     "text": [
      "11212344534233211\n"
     ]
    }
   ],
   "source": [
    "u = 111001101\n",
    "v = 101011111\n",
    "print(karN(u,v,2))"
   ]
  },
  {
   "cell_type": "code",
   "execution_count": 5,
   "id": "27e74f30-af9b-4b74-ae67-9abbd627f92d",
   "metadata": {},
   "outputs": [
    {
     "data": {
      "text/plain": [
       "11212344534233211"
      ]
     },
     "execution_count": 5,
     "metadata": {},
     "output_type": "execute_result"
    }
   ],
   "source": [
    "u*v"
   ]
  },
  {
   "cell_type": "code",
   "execution_count": 6,
   "id": "d743b803-0b63-41a6-925d-116760352603",
   "metadata": {},
   "outputs": [],
   "source": [
    "a = randint(2^1023, 2^1024 - 1)\n",
    "b = randint(2^1023, 2^1024 - 1)"
   ]
  },
  {
   "cell_type": "code",
   "execution_count": 7,
   "id": "1393e438-6de6-4998-b483-71d6deac8548",
   "metadata": {},
   "outputs": [
    {
     "data": {
      "text/plain": [
       "20384613889480246182413557643624738526332976063830004774311668683589669635258167192564937496369608068676659547652494509347556607816887599776956550438507549378220633099827790012455549311704680225677069406298671271312236007195956340007435206555513297563174881183383483363850561523840406375497980386187872890552837397528928632327306946953336143829638305626755894540092269180057174873899747041255880638309730394371259750507601738333354925847984302063894298504760200040661301164967307196501698801345282247711439443007387379622863903807320054819432942137059332937745410282643947459818031453341997929318479950757005250496440"
      ]
     },
     "execution_count": 7,
     "metadata": {},
     "output_type": "execute_result"
    }
   ],
   "source": [
    "karN(a,b,10)"
   ]
  },
  {
   "cell_type": "code",
   "execution_count": 8,
   "id": "ecb274a1-4049-4c32-8015-fb602fe972f9",
   "metadata": {},
   "outputs": [
    {
     "data": {
      "text/plain": [
       "20384613889480246182413557643624738526332976063830004774311668683589669635258167192564937496369608068676659547652494509347556607816887599776956550438507549378220633099827790012455549311704680225677069406298671271312236007195956340007435206555513297563174881183383483363850561523840406375497980386187872890552837397528928632327306946953336143829638305626755894540092269180057174873899747041255880638309730394371259750507601738333354925847984302063894298504760200040661301164967307196501698801345282247711439443007387379622863903807320054819432942137059332937745410282643947459818031453341997929318479950757005250496440"
      ]
     },
     "execution_count": 8,
     "metadata": {},
     "output_type": "execute_result"
    }
   ],
   "source": [
    "a*b #проверка встроенным умножением"
   ]
  },
  {
   "cell_type": "code",
   "execution_count": null,
   "id": "0aa4a015-39c2-4101-ad97-168c29284578",
   "metadata": {},
   "outputs": [],
   "source": []
  }
 ],
 "metadata": {
  "kernelspec": {
   "display_name": "SageMath 10.6",
   "language": "sage",
   "name": "sagemath"
  },
  "language_info": {
   "codemirror_mode": {
    "name": "ipython",
    "version": 3
   },
   "file_extension": ".py",
   "mimetype": "text/x-python",
   "name": "python",
   "nbconvert_exporter": "python",
   "pygments_lexer": "ipython3",
   "version": "3.11.11"
  }
 },
 "nbformat": 4,
 "nbformat_minor": 5
}
